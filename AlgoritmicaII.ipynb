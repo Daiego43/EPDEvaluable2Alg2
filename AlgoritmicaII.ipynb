{
 "cells": [
  {
   "cell_type": "markdown",
   "id": "established-thesis",
   "metadata": {},
   "source": [
    "# Introducción\n",
    "En este proyecto se procede a solucionar dos problemas computacionales mediante dos estrategias distintas, la aplicación de un algoritmo genético (GA) y la optimización por colonia de hormigas (ACO).\n",
    "\n",
    "El código utilizado para este proyecto se encuentra en el siguiente repositorio de GitHub [EPDEvaluableII repository](https://github.com/Daiego43/EPDEvaluable2Alg2)\n",
    "\n",
    "\n",
    "## Problema 1. Algoritmo Genético\n",
    "Se dispone de una balanza con dos platillos y de n objetos, cada uno de los cuales tiene un peso positivo. El objetivo es encontrar un reparto de los objetos entre los dos platillos de la balanza de forma que la diferencia entre los pesos de los objetos situados en cada platillo sea mínima.  \n",
    "\n",
    "## Problema 2. Optimización por colonia de hormigas\n",
    "Se pide implementar un algoritmo de ACO para el problema de la mochila, siguiendo las directrices generales descritas en las clases de EB. Suponga que se dispone de N objetos y que cada uno de ellos tiene asociado un peso (p) y un beneficio (b). El problema consiste en encontrar el subconjunto de objetos de valor máximo que cumpla la restricción de que la suma de sus pesos sea menor o igual que una cota C prefijada (la capacidad de la mochila). Parametrice el problema con 100 objetos con pesos y beneficios comprendidos entre 1 y 100, y con una capacidad máxima de 3000. "
   ]
  },
  {
   "cell_type": "markdown",
   "id": "impossible-emerald",
   "metadata": {},
   "source": [
    "# Resolucion de cuestiones\n",
    "## 1. Representación de las soluciones\n",
    "### 1.1. Problema 1\n",
    "Para resolver el problema de la balanza se ha optado por una solución en forma de vector binario, que posteriormente es traducido a una versión más accesible al usuario que se explica posteriormente."
   ]
  },
  {
   "cell_type": "markdown",
   "id": "annual-intro",
   "metadata": {},
   "source": [
    "El vector binario representa todos los objetos que se van a colocar en la balanza, si el objeto tiene un 0 se posiciona en la balanza izquierda, en caso contrario, si tiene un 1 se posiciona en la balanza derecha"
   ]
  },
  {
   "cell_type": "markdown",
   "id": "alternate-witch",
   "metadata": {},
   "source": [
    "Lo exponemos con un ejemplo:"
   ]
  },
  {
   "cell_type": "code",
   "execution_count": 1,
   "id": "organized-testing",
   "metadata": {},
   "outputs": [],
   "source": [
    "from AlgoritmoGenetico import GA as g\n",
    "\n",
    "problema1 = g.GeneticAlgorithm()"
   ]
  },
  {
   "cell_type": "code",
   "execution_count": 2,
   "id": "introductory-wings",
   "metadata": {},
   "outputs": [
    {
     "name": "stdout",
     "output_type": "stream",
     "text": [
      "Estos son los objetos con sus pesos para de la instancia del problema:\n",
      "\n",
      " {0: 52, 1: 70, 2: 75, 3: 1, 4: 57, 5: 86, 6: 1, 7: 13, 8: 9, 9: 26} \n",
      "\n",
      "Este es un vector binario para tratar una solucion del problema: [1, 0, 1, 0, 0, 0, 0, 1, 0, 1] \n",
      "\n",
      "Esta es la interpretacion de ese vector binario: [[1, 3, 4, 5, 6, 8], [0, 2, 7, 9]] \n",
      "\n"
     ]
    }
   ],
   "source": [
    "vectorBinario = problema1.generateRandomIndividual()\n",
    "\n",
    "print(\"Estos son los objetos con sus pesos para de la instancia del problema:\\n\\n\", problema1.dictObjetos,\"\\n\")\n",
    "\n",
    "print(\"Este es un vector binario para tratar una solucion del problema:\", vectorBinario,\"\\n\")\n",
    "\n",
    "print(\"Esta es la interpretacion de ese vector binario:\", problema1.traducirSolucion(vectorBinario),\"\\n\")"
   ]
  },
  {
   "cell_type": "markdown",
   "id": "innocent-friendship",
   "metadata": {},
   "source": [
    "El resultado de la funcion traducirSolucion() es poner en un lado u otro de la balanza el objeto. Aunque finalmente el resultado que nos interesa obtener es el fitness de dicha solución que será mejor mientras mas se aproxime a 0"
   ]
  },
  {
   "cell_type": "code",
   "execution_count": 3,
   "id": "answering-edition",
   "metadata": {},
   "outputs": [
    {
     "name": "stdout",
     "output_type": "stream",
     "text": [
      "Fitness: 58\n"
     ]
    }
   ],
   "source": [
    "print(\"Fitness:\", problema1.fitness(vectorBinario))"
   ]
  },
  {
   "cell_type": "markdown",
   "id": "supported-colombia",
   "metadata": {},
   "source": [
    "### 1.2. Problema 2\n",
    "Para resolver el problema de la mochila, se han usado las listas de python simulando una mochila. Cada hormiga tiene su propia mochila en la que va guardando objetos.\n",
    "\n",
    "Al igual que en el anterior problema el primer paso fue crear un diccionario de objetos a meter en la mochila, los objetos, numerados de 0 a NUM_OBJETOS - 1 tienen su definición en el diccionario en forma de una tupla (peso, valor).\n",
    "\n",
    "De esta forma un podemos mapear una \"mochila\" para saber el valor que tiene y el peso que lleva. La solución final que nos retornará el algoritmo será el mejor valor de la mochila aunque también podrá visualizar cuál es la combinación de objetos ganadora.\n",
    "\n",
    "Los motivos para hacerlo de esta forma un tanto mas distinta, son también para demostrar que la forma en la que decidamos enfrentar un problema es muy influyente en el resultado final. Esto será explicado más en profundidad en el apartado 3.Tiempo promedio"
   ]
  },
  {
   "cell_type": "code",
   "execution_count": 4,
   "id": "cultural-harvard",
   "metadata": {},
   "outputs": [],
   "source": [
    "from AntColonyOptimization import ACO as a\n",
    "\n",
    "problema2 = a.AntColonyOptimization()"
   ]
  },
  {
   "cell_type": "code",
   "execution_count": 5,
   "id": "exclusive-perth",
   "metadata": {},
   "outputs": [],
   "source": [
    "value = problema2.ACOSolve()"
   ]
  },
  {
   "cell_type": "markdown",
   "id": "residential-narrative",
   "metadata": {},
   "source": [
    "## 2. Discusión de parámetros introducidos para resolver el problema"
   ]
  },
  {
   "cell_type": "markdown",
   "id": "precise-bible",
   "metadata": {},
   "source": [
    "### 2.1. Problema 1"
   ]
  },
  {
   "cell_type": "code",
   "execution_count": 6,
   "id": "appreciated-increase",
   "metadata": {},
   "outputs": [
    {
     "name": "stdout",
     "output_type": "stream",
     "text": [
      "\t\t\t\tProblema de la balanza. Algoritmo Genético. Parámetros\n",
      "Numero de objetos: 10\n",
      "Rango de pesos 100\n",
      "Tamaño de poblacion: 10 individuos\n",
      "Porcentaje de elitismo: 50 %\n",
      "Probabilidad de mutaciones: 10 %\n",
      "Numero de iteraciones, Generaciones de individuos: 30\n",
      "Objetos: {0: 52, 1: 70, 2: 75, 3: 1, 4: 57, 5: 86, 6: 1, 7: 13, 8: 9, 9: 26}\n"
     ]
    }
   ],
   "source": [
    "problema1.printProblemDetails()"
   ]
  },
  {
   "cell_type": "markdown",
   "id": "underlying-catalyst",
   "metadata": {},
   "source": [
    "Estos son los parámetros que se han usado para el problema, claramente y para que resulte didáctico, el numero de objetos es bastante reducido para que la visualización de estos datos sea más adecuada.\n",
    "\n",
    "En los algoritmos genéticos debemos optar por una estrategia de selección sobre la población para que los individuos evolucionen. En este caso y porque interesa intensificar la resolución hacia el óptimo global (fitness = 0) se ha optado por un criterio de selección elitista.\n",
    "\n",
    "El criterio de selección elitista consistirá en seleccionar a un cierto porcentaje de la población actual cuyo fitness sea más optimo que el de sus congéneres.\n",
    "Estos individuos de élite son seleccionados para formar parte de la futura generación de forma inmediata, el resto de individuos que compongan esa nueva población serán los hijos de la población actual."
   ]
  },
  {
   "cell_type": "markdown",
   "id": "informed-literacy",
   "metadata": {},
   "source": [
    "### 2.2. Problema 2"
   ]
  },
  {
   "cell_type": "code",
   "execution_count": 7,
   "id": "abandoned-transmission",
   "metadata": {},
   "outputs": [
    {
     "name": "stdout",
     "output_type": "stream",
     "text": [
      "\t\t\t\tProblema de la Mochila. Algoritmo ACO. Parámetros\n",
      "Numero de objetos: 10\n",
      "Rango de valores: 100\n",
      "Rango de pesos: 100\n",
      "Peso máximo de la mochila: 300\n",
      "Numero de hormigas utilizadas: 5\n",
      "Alpha: 0.5\n",
      "Beta: 0.8\n",
      "Cantidad de feromona dejada por una hormiga: 500\n",
      "Porcentaje de eliminacion de feromona 50%\n",
      "Objetos: {0: (37, 13), 1: (100, 49), 2: (18, 9), 3: (28, 72), 4: (4, 69), 5: (24, 28), 6: (8, 87), 7: (16, 70), 8: (17, 6), 9: (8, 43)}\n"
     ]
    }
   ],
   "source": [
    "problema2.printProblemDetails()"
   ]
  },
  {
   "cell_type": "markdown",
   "id": "alpine-establishment",
   "metadata": {},
   "source": [
    "Lo importante a señalar sobre los parámetros utilizados serán Alpha, Beta y el Porcentaje de eliminación de feromonas.\n",
    "Alpha y Beta forman parte de la probabilidad de transición de las hormigas, es decir, la probabilidad que tiene una hormiga de coger o no un objeto. Esta probabilidad se basa en la calidad que aporta ese objeto a la solución (valor heurístico, en este caso, valor del objeto en cuestión) y en el rastro que posee (Si las anteriores colonias de hormigas optaron por coger dicho objeto). Alpha y Beta nos sirven para indicar la relevancia de estos aspectos, siendo ambos parámetros un numero real en el intervalo (0, 1).\n",
    "\n",
    "Si Alpha es 0 ignoraríamos por completo el rastro de las hormigas y nos guiariamos solo por el valor del objeto, si Beta fuese 0 nos guiaríamos solo por el rastro que dejan las hormigas pero no tendríamos información relevante respecto a la solución que queremos encontrar\n",
    "\n",
    "Finalmente, en cada iteración del programa un cierto porcentaje de feromona o rastro que dejaron las hormigas en cada objeto se actualiza. Que el rastro se actualice quiere decir que cierto porcentaje debe evaporarse (indicado en problemDetails) y además se le debe añadir también una cierta cantidad de feromona en funcion de las hormigas que hayan decidido recogerlo.\n",
    "\n",
    "Dicho esto, los motivos para escoger los parámetros presentes se deben a que se quiere mantener una buena aproximación heurística (B = 0.8) del problema pero a su vez también queremos dar lugar a cierta diversificación de las soluciones pero no excesivamente ya que muchas veces las hormigas se pueden empezar a guiar por rastros que no llevan a un óptimo global y se pueden estancar en óptimos locales (A = 0.2)"
   ]
  },
  {
   "cell_type": "markdown",
   "id": "divided-syria",
   "metadata": {},
   "source": [
    "## 3. Tiempo promedio de ejecución, tras 30 ejecuciones"
   ]
  },
  {
   "cell_type": "markdown",
   "id": "supreme-christopher",
   "metadata": {},
   "source": [
    "Primero echaremos un vistazo a la ejecución natural del programa y después mostraremos el tiempo medio de ejecución"
   ]
  },
  {
   "cell_type": "markdown",
   "id": "determined-writing",
   "metadata": {},
   "source": [
    "### 3.1. Problema 1"
   ]
  },
  {
   "cell_type": "markdown",
   "id": "suffering-cabin",
   "metadata": {},
   "source": [
    "Ejecución normal del programa"
   ]
  },
  {
   "cell_type": "code",
   "execution_count": 8,
   "id": "scheduled-absorption",
   "metadata": {},
   "outputs": [
    {
     "name": "stdout",
     "output_type": "stream",
     "text": [
      "Diccionario de objetos y pesos:  {0: 52, 1: 70, 2: 75, 3: 1, 4: 57, 5: 86, 6: 1, 7: 13, 8: 9, 9: 26}\n",
      "Poblacion inicial:\n",
      "-  [[0, 1, 2], [3, 4, 5, 6, 7, 8, 9]] Fitness: 4\n",
      "-  [[3, 6], [0, 1, 2, 4, 5, 7, 8, 9]] Fitness: 386\n",
      "-  [[2, 4, 8, 9], [0, 1, 3, 5, 6, 7]] Fitness: 56\n",
      "-  [[5, 6], [0, 1, 2, 3, 4, 7, 8, 9]] Fitness: 216\n",
      "-  [[3, 4, 5, 7, 8], [0, 1, 2, 6, 9]] Fitness: 58\n",
      "-  [[1, 2, 4, 5, 8], [0, 3, 6, 7, 9]] Fitness: 204\n",
      "-  [[0, 4, 7], [1, 2, 3, 5, 6, 8, 9]] Fitness: 146\n",
      "-  [[0, 1, 3, 4, 5, 7, 8], [2, 6, 9]] Fitness: 186\n",
      "-  [[0, 1, 4, 6, 7, 9], [2, 3, 5, 8]] Fitness: 48\n",
      "-  [[1, 2, 3, 4, 7, 8, 9], [0, 5, 6]] Fitness: 112\n",
      "Individuos resultantes tras 30 generaciones\n",
      "-  [[0, 1, 2], [3, 4, 5, 6, 7, 8, 9]] Fitness: 4\n",
      "-  [[0, 1, 4, 6, 7], [2, 3, 5, 8, 9]] Fitness: 4\n",
      "-  [[0, 1, 2, 6], [3, 4, 5, 7, 8, 9]] Fitness: 6\n",
      "-  [[0, 1, 4, 7], [2, 3, 5, 6, 8, 9]] Fitness: 6\n",
      "-  [[0, 1, 4, 9], [2, 3, 5, 6, 7, 8]] Fitness: 20\n",
      "-  [[0, 1, 7], [2, 3, 4, 5, 6, 8, 9]] Fitness: 120\n",
      "-  [[0, 1, 4], [2, 3, 5, 6, 7, 8, 9]] Fitness: 32\n",
      "-  [[0, 1, 2, 4, 7], [3, 5, 6, 8, 9]] Fitness: 144\n",
      "-  [[0, 1, 6], [2, 3, 4, 5, 7, 8, 9]] Fitness: 144\n",
      "-  [[0, 1], [2, 3, 4, 5, 6, 7, 8, 9]] Fitness: 146\n",
      "Individuo con mejor fitness: [0, 0, 0, 1, 1, 1, 1, 1, 1, 1]\n",
      "Fitness: 4\n",
      "Balanza:  [[0, 1, 2], [3, 4, 5, 6, 7, 8, 9]]\n"
     ]
    }
   ],
   "source": [
    "problema1.GASolveVisual()"
   ]
  },
  {
   "cell_type": "code",
   "execution_count": 9,
   "id": "coated-turning",
   "metadata": {},
   "outputs": [
    {
     "name": "stdout",
     "output_type": "stream",
     "text": [
      "Tiempo medio tras 30 ejecuciones: 0.0022272904713948566 Segundos\n"
     ]
    }
   ],
   "source": [
    "media = problema1.tiempo_medio_ejecucion()\n",
    "print(\"Tiempo medio tras 30 ejecuciones:\", media, \"Segundos\")"
   ]
  },
  {
   "cell_type": "code",
   "execution_count": 10,
   "id": "revised-interaction",
   "metadata": {},
   "outputs": [
    {
     "data": {
      "image/png": "[encoded data removed]",
      "text/plain": [
       "<Figure size 432x288 with 1 Axes>"
      ]
     },
     "metadata": {
      "needs_background": "light"
     },
     "output_type": "display_data"
    },
    {
     "data": {
      "image/png": "[encoded data removed]",
      "text/plain": [
       "<Figure size 432x288 with 1 Axes>"
      ]
     },
     "metadata": {
      "needs_background": "light"
     },
     "output_type": "display_data"
    }
   ],
   "source": [
    "import TimeTester as t"
   ]
  },
  {
   "cell_type": "markdown",
   "id": "coordinated-capture",
   "metadata": {},
   "source": [
    "Teniendo en cuenta los parámetros introducidos este es el tiempo de ejecución resultante.\n",
    "Valores clave como el tamaño de la población o el numero de pesos disponibles son los grandes influyentes en el tiempo de ejecución.\n",
    "Veamos ahora de forma gráfica cómo afectan los cambios de esos valores al tiempo de ejecución:\n",
    "\n",
    "##### El tiempo de ejecucion en funcion del numero de individuos en la poblacion\n",
    "Se fijó el numero de objetos a 10 y se calculó el tiempo medio de ejecucion para poblaciones de 100, 200, 300..., 1000 individuos."
   ]
  },
  {
   "cell_type": "code",
   "execution_count": 11,
   "id": "operational-ensemble",
   "metadata": {},
   "outputs": [
    {
     "data": {
      "image/png": "[encoded data removed]",
      "text/plain": [
       "<Figure size 432x288 with 1 Axes>"
      ]
     },
     "metadata": {
      "needs_background": "light"
     },
     "output_type": "display_data"
    }
   ],
   "source": [
    "t.plotGADataPoblacion()"
   ]
  },
  {
   "cell_type": "markdown",
   "id": "operational-adoption",
   "metadata": {},
   "source": [
    "Sin hacer demasiado incapié en el estudio más analítico de la gráfica observamos una complejidad cuadrática en el algoritmo. Mientras más individuos ponemos en una población para resolver un problema mediante un algoritmo genético, el tiempo de ejecución crecerá de forma exponencial.\n",
    "\n",
    "#### El tiempo de ejecucion en funcion del numero de objetos que se quieran colocar en la balanza\n",
    "Se fijó el tamaño de la población a 10 individuos y nuevamente se calcularon los tiempos de ejecución para 100,200,...,1000 objetos."
   ]
  },
  {
   "cell_type": "code",
   "execution_count": 12,
   "id": "comfortable-triumph",
   "metadata": {},
   "outputs": [
    {
     "data": {
      "image/png": "[encoded data removed]",
      "text/plain": [
       "<Figure size 432x288 with 1 Axes>"
      ]
     },
     "metadata": {
      "needs_background": "light"
     },
     "output_type": "display_data"
    }
   ],
   "source": [
    "t.plotGADataObjetos()"
   ]
  },
  {
   "cell_type": "markdown",
   "id": "robust-trance",
   "metadata": {},
   "source": [
    "Se observa una clara complejidad lineal del algoritmo respecto al numero de pesos que se quieren colocar en la balanza.\n",
    "\n",
    "#### Conclusión\n",
    "Ya que el numero de objetos y el tamaño poblacional son los datos que influyen de manera directa con la complejidad del algoritmo, podemos concluir que dado que solo aumentar el tamaño de la poblacion de soluciones supone un incremento cuadrático del tiempo y que el numero de objetos supone un incremento lineal. Lo que podemos concluir es que en una ejecución del programa donde se aumenten a la vez estas dos variables, concluye que el algoritmo debe tener una complejidad cúbica.\n"
   ]
  },
  {
   "cell_type": "markdown",
   "id": "magnetic-charm",
   "metadata": {},
   "source": [
    "### 3.2. Problema 2"
   ]
  },
  {
   "cell_type": "code",
   "execution_count": 13,
   "id": "funded-creation",
   "metadata": {},
   "outputs": [
    {
     "name": "stdout",
     "output_type": "stream",
     "text": [
      "Hormiga 0: [2, 9, 6, 5, 1, 7, 3, 0, 4, 8]--> valor: 446  peso: 260\n",
      "Hormiga 1: [7, 3, 5, 1, 4, 6, 9, 0, 8, 2]--> valor: 446  peso: 260\n",
      "Hormiga 2: [0, 3, 4, 6, 7, 9, 8, 1, 2, 5]--> valor: 446  peso: 260\n",
      "Hormiga 3: [4, 6, 8, 3, 7, 9, 5, 2, 1, 0]--> valor: 446  peso: 260\n",
      "Hormiga 4: [9, 5, 7, 2, 4, 6, 3, 8, 1, 0]--> valor: 446  peso: 260\n",
      "\n",
      "El mejor valor se ha actualizado\n",
      "\n",
      "\n",
      "Hormiga 0: [6, 7, 3, 5, 4, 9, 0, 1, 2, 8]--> valor: 446  peso: 260\n",
      "Hormiga 1: [5, 1, 2, 7, 3, 4, 6, 0, 9, 8]--> valor: 446  peso: 260\n",
      "Hormiga 2: [5, 6, 9, 4, 3, 1, 7, 0, 8, 2]--> valor: 446  peso: 260\n",
      "Hormiga 3: [6, 4, 9, 1, 0, 7, 5, 3, 2, 8]--> valor: 446  peso: 260\n",
      "Hormiga 4: [5, 1, 6, 4, 9, 3, 7, 0, 8, 2]--> valor: 446  peso: 260\n",
      "\n",
      "\n",
      "Hormiga 0: [0, 9, 6, 3, 2, 4, 1, 7, 5, 8]--> valor: 446  peso: 260\n",
      "Hormiga 1: [4, 3, 7, 6, 2, 9, 5, 1, 8, 0]--> valor: 446  peso: 260\n",
      "Hormiga 2: [9, 4, 8, 5, 6, 1, 3, 7, 2, 0]--> valor: 446  peso: 260\n",
      "Hormiga 3: [6, 3, 1, 7, 9, 8, 2, 5, 4, 0]--> valor: 446  peso: 260\n",
      "Hormiga 4: [6, 9, 1, 7, 3, 4, 5, 0, 8, 2]--> valor: 446  peso: 260\n",
      "\n",
      "\n",
      "Hormiga 0: [0, 2, 7, 5, 6, 4, 1, 8, 3, 9]--> valor: 446  peso: 260\n",
      "Hormiga 1: [9, 4, 7, 6, 5, 1, 2, 3, 8, 0]--> valor: 446  peso: 260\n",
      "Hormiga 2: [7, 0, 3, 4, 5, 1, 8, 2, 6, 9]--> valor: 446  peso: 260\n",
      "Hormiga 3: [6, 9, 4, 5, 1, 3, 7, 2, 0, 8]--> valor: 446  peso: 260\n",
      "Hormiga 4: [9, 1, 4, 6, 3, 5, 8, 7, 0, 2]--> valor: 446  peso: 260\n",
      "\n",
      "\n",
      "Hormiga 0: [4, 1, 9, 2, 5, 7, 6, 0, 3, 8]--> valor: 446  peso: 260\n",
      "Hormiga 1: [2, 4, 3, 1, 7, 9, 5, 6, 0, 8]--> valor: 446  peso: 260\n",
      "Hormiga 2: [7, 5, 6, 4, 3, 2, 1, 9, 0, 8]--> valor: 446  peso: 260\n",
      "Hormiga 3: [9, 4, 7, 3, 6, 5, 1, 2, 8, 0]--> valor: 446  peso: 260\n",
      "Hormiga 4: [5, 6, 3, 7, 4, 2, 9, 1, 0, 8]--> valor: 446  peso: 260\n",
      "\n",
      "\n",
      "Hormiga 0: [1, 6, 4, 8, 9, 2, 3, 7, 0, 5]--> valor: 446  peso: 260\n",
      "Hormiga 1: [8, 3, 4, 2, 9, 0, 5, 1, 6, 7]--> valor: 446  peso: 260\n",
      "Hormiga 2: [5, 3, 4, 7, 6, 9, 1, 0, 8, 2]--> valor: 446  peso: 260\n",
      "Hormiga 3: [9, 5, 3, 6, 4, 7, 1, 8, 2, 0]--> valor: 446  peso: 260\n",
      "Hormiga 4: [9, 1, 7, 0, 4, 3, 6, 5, 8, 2]--> valor: 446  peso: 260\n",
      "\n",
      "\n",
      "Hormiga 0: [0, 7, 9, 6, 4, 5, 1, 3, 2, 8]--> valor: 446  peso: 260\n",
      "Hormiga 1: [8, 3, 9, 6, 4, 5, 7, 2, 0, 1]--> valor: 446  peso: 260\n",
      "Hormiga 2: [3, 7, 4, 1, 6, 9, 8, 5, 2, 0]--> valor: 446  peso: 260\n",
      "Hormiga 3: [9, 5, 7, 6, 0, 1, 3, 4, 2, 8]--> valor: 446  peso: 260\n",
      "Hormiga 4: [0, 6, 3, 1, 7, 5, 9, 4, 2, 8]--> valor: 446  peso: 260\n",
      "\n",
      "\n",
      "Hormiga 0: [7, 6, 3, 1, 0, 4, 9, 2, 5, 8]--> valor: 446  peso: 260\n",
      "Hormiga 1: [1, 3, 0, 7, 4, 6, 5, 9, 2, 8]--> valor: 446  peso: 260\n",
      "Hormiga 2: [7, 0, 1, 9, 8, 5, 3, 6, 2, 4]--> valor: 446  peso: 260\n",
      "Hormiga 3: [9, 4, 7, 6, 3, 2, 1, 5, 0, 8]--> valor: 446  peso: 260\n",
      "Hormiga 4: [9, 4, 6, 3, 1, 7, 5, 0, 2, 8]--> valor: 446  peso: 260\n",
      "\n",
      "\n",
      "Hormiga 0: [7, 4, 3, 9, 6, 0, 5, 1, 2, 8]--> valor: 446  peso: 260\n",
      "Hormiga 1: [1, 9, 3, 4, 6, 5, 7, 8, 0, 2]--> valor: 446  peso: 260\n",
      "Hormiga 2: [9, 7, 6, 3, 2, 1, 4, 5, 0, 8]--> valor: 446  peso: 260\n",
      "Hormiga 3: [8, 7, 4, 3, 6, 1, 2, 9, 5, 0]--> valor: 446  peso: 260\n",
      "Hormiga 4: [1, 7, 9, 4, 6, 3, 5, 8, 0, 2]--> valor: 446  peso: 260\n",
      "\n",
      "\n",
      "Hormiga 0: [1, 7, 5, 3, 8, 4, 6, 9, 2, 0]--> valor: 446  peso: 260\n",
      "Hormiga 1: [1, 4, 3, 5, 9, 6, 7, 2, 8, 0]--> valor: 446  peso: 260\n",
      "Hormiga 2: [0, 2, 3, 7, 6, 8, 5, 1, 4, 9]--> valor: 446  peso: 260\n",
      "Hormiga 3: [5, 4, 6, 3, 7, 9, 0, 1, 2, 8]--> valor: 446  peso: 260\n",
      "Hormiga 4: [4, 3, 6, 9, 2, 1, 5, 7, 0, 8]--> valor: 446  peso: 260\n",
      "\n",
      "\n",
      "Mejor valor encontrado 446 \n",
      "Mochila: [2, 9, 6, 5, 1, 7, 3, 0, 4, 8]\n"
     ]
    },
    {
     "data": {
      "text/plain": [
       "446"
      ]
     },
     "execution_count": 13,
     "metadata": {},
     "output_type": "execute_result"
    }
   ],
   "source": [
    "problema2.ACOSolveVisual()"
   ]
  },
  {
   "cell_type": "code",
   "execution_count": 14,
   "id": "spectacular-owner",
   "metadata": {},
   "outputs": [
    {
     "name": "stdout",
     "output_type": "stream",
     "text": [
      "Tiempo medio de ejecucion:  0.0059342543284098305 segundos\n",
      "Mejor solucion encontrada tras las 30 ejecuciones del algoritmo 446\n"
     ]
    }
   ],
   "source": [
    "media, mejor = problema2.tiempo_medio_ejecucion()\n",
    "print(\"Tiempo medio de ejecucion: \", media, \"segundos\")\n",
    "print(\"Mejor solucion encontrada tras las 30 ejecuciones del algoritmo\", mejor)"
   ]
  },
  {
   "cell_type": "markdown",
   "id": "choice-tanzania",
   "metadata": {},
   "source": [
    "Una vez ejecutado el algoritmo se procede a hacer un estudio del mismo modificando una serie de parámetros\n",
    "\n",
    "#### Tiempo de ejecución respecto al número de hormigas utilizadas\n",
    "Se fijó un peso máximo de 300 kilos, 10 iteraciones y 10 objetos con pesos y valores random en el intervalo (0,100). Se estudió el tiempo de ejecución para este caso de el problema modificando el número de hormigas"
   ]
  },
  {
   "cell_type": "code",
   "execution_count": 15,
   "id": "solar-reproduction",
   "metadata": {},
   "outputs": [
    {
     "data": {
      "image/png": "[encoded data removed]",
      "text/plain": [
       "<Figure size 432x288 with 1 Axes>"
      ]
     },
     "metadata": {
      "needs_background": "light"
     },
     "output_type": "display_data"
    }
   ],
   "source": [
    "t.plotACODataHormigas()"
   ]
  },
  {
   "cell_type": "markdown",
   "id": "broad-favorite",
   "metadata": {},
   "source": [
    "Vemos unos pequeños que los tiempos de ejecución son algo erráticos pero aún así tienen tendencia lineal y el coste por poner alguna hormiga más es bastante más controlado en comparación con el siguiente resultado.\n",
    "\n",
    "#### Tiempo de ejecución respecto al numero de objetos a insertar en la mochila\n",
    "Se fijó un numero de 5 hormigas y un peso máximo de 3000 kilos, probaremos con instancias del problema de 100,200,300,400 y 500 objetos debido a que como se muestra, calcular un tiempo medio de ejecución para el caso de 1000 objetos podía resultar excesivamente costoso temporalmente\n"
   ]
  },
  {
   "cell_type": "code",
   "execution_count": 16,
   "id": "color-fault",
   "metadata": {},
   "outputs": [
    {
     "data": {
      "image/png": "[encoded data removed]",
      "text/plain": [
       "<Figure size 432x288 with 1 Axes>"
      ]
     },
     "metadata": {
      "needs_background": "light"
     },
     "output_type": "display_data"
    }
   ],
   "source": [
    "t.plotACODataObjetos()"
   ]
  },
  {
   "cell_type": "markdown",
   "id": "alternative-cable",
   "metadata": {},
   "source": [
    "Vemos que ya para introducir 500 objetos en la mochila el tiempo medio de ejecución alcanza los 30 segundos. También se observa y aproxima a una función cuadrática en cuanto a la complejidad del algoritmo para este parámetro.\n",
    "\n",
    "#### Conclusión\n",
    "En cuanto a complejidad la colonia de hormigas coincide con el algoritmo genético en poseer una complejidad cúbica ya que ambos parámetros están estrechamente relacionados (numero de hormigas y numero de objetos)."
   ]
  },
  {
   "cell_type": "markdown",
   "id": "available-tumor",
   "metadata": {},
   "source": [
    "## 4. Conclusiones\n",
    "\n",
    "### Sobre el tiempo de ejecución\n",
    "Cuando acabé la fase de programación realmente me asustó que llegase a tardar tanto tiempo, más aún cuando se somete a comparación con los resultados de mis compañeros que para instancias muy simples de los problemas no sobrepasaban el segundo.\n",
    "\n",
    "Sin embargo luego fue cuando me puse a investigar el por qué. \n",
    "En primer lugar llevé a cabo una breve tarea de optimización del código lo que trajo un notable resultado en cuanto al tiempo de ejecución (en ACO se logró optimizar hasta un 90% el tiempo de ejecución) y aún así seguian siendo programas muy lentos.\n",
    "\n",
    "Fue llegado este punto cuando caí en la cuenta, estoy programando en python y cuando decimos que python es lento es que puede llegar a ser entre 100 y 200 veces más lento que otros lenguajes de programación como C o Java. \n",
    "La razón por la que implementación en python es tan lenta se debe a dos razones:\n",
    "\n",
    "1. El bajo control que se tiene sobre las estructuras de datos, cuando se simplifica de sobremanera la programación podemos caer en hacer programas que aunque son mucho más simples de escribir, son menos eficientes.\n",
    "\n",
    "2. El uso de tipado dinámico, los lenguajes de programación compilados como C o Java optimizan muchísimo el tiempo de ejecución debido a que el tipo de datos de las variables se declara en el código. En python esto no ocurre, el intérprete no sabe si una determinada variable se trata de un entero, float, string, list, etc,... hasta que llega el momento de usarla, esto provoca una gran lentitud en un programa de python vs un programa en C o Java\n",
    "\n",
    "Afortunadamente la lentitud de python puede ser optimizada con retoques simples como: Una parte del código que pueda ser costosa o compleja de ejecutar puede ser sustituida por su implementación en C. Python está basado en C y si usamos una función programada en dicho lenguaje podemos aprovechar su velocidad para optimizar enormemente futuros programas.\n",
    "\n",
    "### Opinión personal\n",
    "Lo siento por ser tan pesado pero le agradezco de corazón que me hay dejado usar Python para este trabajo, no solo me ha servido para mejorar programando sino que he aprendido muchísimas cosas nuevas para desarrollar mejores trabajos.\n",
    "Es un poco triste que yo lo diga pero me parezco un poco a la liebre del cuento. Cuando me tengo que poner a trabajar consigo comprender perfectamente el funcionamiento de los algoritmos y en cierto modo es porque cuando tengo presión por trabajar es cuando realmente aprendo sobre lo que trabajamos en clase, se siente más un reto para mi.\n",
    "\n",
    "Espero que el trabajo haya sido de su agrado.\n",
    "\n",
    "\n",
    "@Author: Diego Delgado Chaves\n",
    "\n"
   ]
  },
  {
   "cell_type": "code",
   "execution_count": null,
   "id": "supposed-breeding",
   "metadata": {},
   "outputs": [],
   "source": []
  }
 ],
 "metadata": {
  "kernelspec": {
   "display_name": "Python 3",
   "language": "python",
   "name": "python3"
  },
  "language_info": {
   "codemirror_mode": {
    "name": "ipython",
    "version": 3
   },
   "file_extension": ".py",
   "mimetype": "text/x-python",
   "name": "python",
   "nbconvert_exporter": "python",
   "pygments_lexer": "ipython3",
   "version": "3.9.2"
  }
 },
 "nbformat": 4,
 "nbformat_minor": 5
}
